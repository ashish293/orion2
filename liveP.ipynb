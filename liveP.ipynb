{
 "cells": [
  {
   "cell_type": "code",
   "execution_count": 3,
   "metadata": {},
   "outputs": [],
   "source": [
    "import cv2\n",
    "import numpy as np"
   ]
  },
  {
   "cell_type": "code",
   "execution_count": 4,
   "metadata": {},
   "outputs": [],
   "source": [
    "path = 'haarcascade_frontalface_default.xml'\n",
    "font_scale = 1.5\n",
    "font = cv2.FONT_HERSHEY_PLAIN\n",
    "rectangle_bgr = (255, 255, 255)\n",
    "img = np.zeros((500, 500))\n",
    "text = \"Some Text in box\"\n",
    "Classes = ['angry', 'disgust', 'fear', 'happy', 'neutral', 'sad', 'surprise']\n"
   ]
  },
  {
   "cell_type": "code",
   "execution_count": 5,
   "metadata": {},
   "outputs": [],
   "source": [
    "(text_width, text_height) = cv2.getTextSize(text, font, fontScale=font_scale, thickness=1)[0]"
   ]
  },
  {
   "cell_type": "code",
   "execution_count": 6,
   "metadata": {},
   "outputs": [
    {
     "data": {
      "text/plain": [
       "array([[0., 0., 0., ..., 0., 0., 0.],\n",
       "       [0., 0., 0., ..., 0., 0., 0.],\n",
       "       [0., 0., 0., ..., 0., 0., 0.],\n",
       "       ...,\n",
       "       [0., 0., 0., ..., 0., 0., 0.],\n",
       "       [0., 0., 0., ..., 0., 0., 0.],\n",
       "       [0., 0., 0., ..., 0., 0., 0.]])"
      ]
     },
     "execution_count": 6,
     "metadata": {},
     "output_type": "execute_result"
    }
   ],
   "source": [
    "text_offset_x = 10\n",
    "text_offset_y = img.shape[0]-25\n",
    "box_coords = ((text_offset_x, text_offset_y), (text_offset_x+ text_width+2, text_offset_y-text_height-2))\n",
    "cv2.rectangle(img, box_coords[0], box_coords[1], rectangle_bgr, cv2.FILLED)\n",
    "cv2.putText(img, text, (text_offset_x, text_offset_y), font, fontScale=font_scale, color=(0, 0, 0), thickness=1)"
   ]
  },
  {
   "cell_type": "code",
   "execution_count": null,
   "metadata": {},
   "outputs": [],
   "source": [
    "cap = cv2.VideoCapture(1)\n",
    "if not cap.isOpened():\n",
    "  cap = cv2.VideoCapture(0)\n",
    "if not cap.isOpened():\n",
    "  raise IOError(\"cannot open webcam\")\n",
    "\n",
    "while True:\n",
    "  ret, frame = cap.read()\n",
    "  faceCascade= cv2.CascadeClassifier(cv2.data.haarcascades+ 'haarcascade_frontalface_default.xml')\n",
    "  gray = cv2.cvtColor(frame, cv2.COLOR_BGR2GRAY)\n",
    "  faces = faceCascade.detectMultiscale(gray, 1.1, 4)\n",
    "  for x, y, w, h in faces:\n",
    "    roi_gray = gray[y:y+h, x:x+w]\n",
    "    roi_color = frame[y:y+h, x:x+w]\n",
    "    cv2.rectangle(frame, (x,y), (x+w, y+h), (255, 0, 0), 2)\n",
    "    facess = faceCascade.detectMultiscale(roi_gray)\n",
    "    if len(facess) ==0:\n",
    "      print(\"Face not detected\")\n",
    "    else:\n",
    "      for ex,ey,ew,eh in facess:\n",
    "        face_roi = roi_color[ey:ey+eh, ex: ex+ew]\n",
    "  final_image= cv2.resize(face_roi, (224, 224))\n",
    "  final_image = np.expand_dims(final_image, axis=0)\n",
    "  final_image = final_image/255.0\n",
    "  \n",
    "  font = cv2.FONT_HERSHEY_SIMPLEX\n",
    "  Predictions = new_model.predict(final_image)\n",
    "  font_scale = 1.5\n",
    "  font = cv2.FONT_HERSHEY_PLAIN\n",
    "  status = Classes[np.argmax(Predictions)]\n",
    "  x1,y1,w1,h1 = 0 , 0, 175, 75\n",
    "  cv2.rectangle(frame, (x1, x1), (x))\n",
    "  \n"
   ]
  }
 ],
 "metadata": {
  "kernelspec": {
   "display_name": "Python 3.9.12 ('base')",
   "language": "python",
   "name": "python3"
  },
  "language_info": {
   "codemirror_mode": {
    "name": "ipython",
    "version": 3
   },
   "file_extension": ".py",
   "mimetype": "text/x-python",
   "name": "python",
   "nbconvert_exporter": "python",
   "pygments_lexer": "ipython3",
   "version": "3.9.12"
  },
  "orig_nbformat": 4,
  "vscode": {
   "interpreter": {
    "hash": "892ec26df7909c16895f2faa665477dacb6ec5f5af16b33b2ebfd6a8b8d32d0d"
   }
  }
 },
 "nbformat": 4,
 "nbformat_minor": 2
}
